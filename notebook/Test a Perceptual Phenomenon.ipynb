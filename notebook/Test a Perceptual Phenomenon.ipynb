{
 "cells": [
  {
   "cell_type": "markdown",
   "metadata": {},
   "source": [
    "### Analyzing the Stroop Effect\n",
    "Perform the analysis in the space below. Remember to follow [the instructions](https://docs.google.com/document/d/1-OkpZLjG_kX9J6LIQ5IltsqMzVWjh36QpnP2RYpVdPU/pub?embedded=True) and review the [project rubric](https://review.udacity.com/#!/rubrics/71/view) before submitting. Once you've completed the analysis and write-up, download this file as a PDF or HTML file, upload that PDF/HTML into the workspace here (click on the orange Jupyter icon in the upper left then Upload), then use the Submit Project button at the bottom of this page. This will create a zip file containing both this .ipynb doc and the PDF/HTML doc that will be submitted for your project.\n",
    "\n",
    "\n",
    "(1) What is the independent variable? What is the dependent variable?"
   ]
  },
  {
   "cell_type": "markdown",
   "metadata": {},
   "source": [
    "Answer:\n",
    "<li>1- \"Dependent Variable\" is a variable being tested in an experiment.</li>\n",
    "<li>2- \"Independent Variable\" is a variable whose value is changed in the experiment to test the effect of that on the \"Dependent Variable\" being tested.</li>\n",
    "<li>3- Conclusion: In Stroop Effect Analysis,\n",
    "\n",
    "Congruent and Incongruent are Dependent variables,\n",
    "Color word and word text color are Independent variables</li>"
   ]
  },
  {
   "cell_type": "markdown",
   "metadata": {},
   "source": [
    "(2) What is an appropriate set of hypotheses for this task? Specify your null and alternative hypotheses, and clearly define any notation used. Justify your choices."
   ]
  },
  {
   "cell_type": "markdown",
   "metadata": {},
   "source": [
    "\n",
    "Answer:\n",
    "<li>Null hypothesis represents a hypothesis that says there is no significant difference between the two variables in the hypothesis.</li>\n",
    "<li>Alternative hypothesis is the inverse which says that there is a difference between the two variables.</li>\n",
    "\n",
    ">Based on the definitions above,\n",
    "<li> Null hypthesis: Incongurent population mean (ink color and word are different) is similar to Congurent population mean (ink color and word are same color) or less.</li>\n",
    "<li>Alternative hypothesis: Incongruent population mean is greater than Congruent population mean</li>\n",
    "\n",
    "\n",
    "\n",
    ">Notations:\n",
    "\n",
    "$$H_0: μ_{incongruent} - μ_{congruent} \\leq 0 $$\n",
    "\n",
    "\n",
    "$$H_1: μ_{incongruent} - μ_{congruent} \\gt 0$$\n",
    "\n",
    "><li>As statistical test, bootstrapping can be used, bootstrapping is random sampling with repalcement it is used to infer about a population from sample data, can be modelled by resampling the sample data and performing inference about a sample from resampled data</li>"
   ]
  },
  {
   "cell_type": "markdown",
   "metadata": {},
   "source": [
    "(3) Report some descriptive statistics regarding this dataset. Include at least one measure of central tendency and at least one measure of variability. The name of the data file is 'stroopdata.csv'."
   ]
  },
  {
   "cell_type": "code",
   "execution_count": 1,
   "metadata": {},
   "outputs": [
    {
     "data": {
      "text/html": [
       "<div>\n",
       "<style>\n",
       "    .dataframe thead tr:only-child th {\n",
       "        text-align: right;\n",
       "    }\n",
       "\n",
       "    .dataframe thead th {\n",
       "        text-align: left;\n",
       "    }\n",
       "\n",
       "    .dataframe tbody tr th {\n",
       "        vertical-align: top;\n",
       "    }\n",
       "</style>\n",
       "<table border=\"1\" class=\"dataframe\">\n",
       "  <thead>\n",
       "    <tr style=\"text-align: right;\">\n",
       "      <th></th>\n",
       "      <th>Congruent</th>\n",
       "      <th>Incongruent</th>\n",
       "    </tr>\n",
       "  </thead>\n",
       "  <tbody>\n",
       "    <tr>\n",
       "      <th>count</th>\n",
       "      <td>24.000000</td>\n",
       "      <td>24.000000</td>\n",
       "    </tr>\n",
       "    <tr>\n",
       "      <th>mean</th>\n",
       "      <td>14.051125</td>\n",
       "      <td>22.015917</td>\n",
       "    </tr>\n",
       "    <tr>\n",
       "      <th>std</th>\n",
       "      <td>3.559358</td>\n",
       "      <td>4.797057</td>\n",
       "    </tr>\n",
       "    <tr>\n",
       "      <th>min</th>\n",
       "      <td>8.630000</td>\n",
       "      <td>15.687000</td>\n",
       "    </tr>\n",
       "    <tr>\n",
       "      <th>25%</th>\n",
       "      <td>11.895250</td>\n",
       "      <td>18.716750</td>\n",
       "    </tr>\n",
       "    <tr>\n",
       "      <th>50%</th>\n",
       "      <td>14.356500</td>\n",
       "      <td>21.017500</td>\n",
       "    </tr>\n",
       "    <tr>\n",
       "      <th>75%</th>\n",
       "      <td>16.200750</td>\n",
       "      <td>24.051500</td>\n",
       "    </tr>\n",
       "    <tr>\n",
       "      <th>max</th>\n",
       "      <td>22.328000</td>\n",
       "      <td>35.255000</td>\n",
       "    </tr>\n",
       "  </tbody>\n",
       "</table>\n",
       "</div>"
      ],
      "text/plain": [
       "       Congruent  Incongruent\n",
       "count  24.000000    24.000000\n",
       "mean   14.051125    22.015917\n",
       "std     3.559358     4.797057\n",
       "min     8.630000    15.687000\n",
       "25%    11.895250    18.716750\n",
       "50%    14.356500    21.017500\n",
       "75%    16.200750    24.051500\n",
       "max    22.328000    35.255000"
      ]
     },
     "execution_count": 1,
     "metadata": {},
     "output_type": "execute_result"
    }
   ],
   "source": [
    "import pandas as pd\n",
    "import numpy as np\n",
    "import matplotlib.pyplot as plt\n",
    "%matplotlib inline\n",
    "\n",
    "df=pd.read_csv('stroopdata.csv')\n",
    "df.describe()\n",
    "\n",
    "#cong_mean=df['Congruent'].mean()\n",
    "#incong_mean=df['Incongruent'].mean()\n",
    "#cong_median=df['Congruent'].median()\n",
    "#incong_median=df['Incongruent'].median()\n",
    "#cong_std=df['Congruent'].std()\n",
    "#incong_std=df['Incongruent'].std()\n",
    "\n",
    "#print('Congruent Median is {} sec, Incongruent Median is {} sec'.format(round(cong_median,2),round(incong_median,2)))\n",
    "#print('Congruent Mean is {} sec, Incongruent Mean is {} sec'.format(round(cong_mean,2),round(incong_mean,2)))\n",
    "#print('Congruent St.Deviation is {} sec, Incongruent St.Deviation is {} sec'.format(round(cong_std,2),round(incong_std,2)))\n"
   ]
  },
  {
   "cell_type": "markdown",
   "metadata": {},
   "source": [
    "Answer:\n",
    ">Cental Tendency Measures:\n",
    "<li>Congruent Median is 14.36 sec, Incongruent Median is 21.02 sec</li>\n",
    "<li>Congruent Mean is 14.05 sec, Incongruent Mean is 22.02 sec</li>\n",
    "\n",
    ">Variance Measures:\n",
    "<li>Congruent St.Deviation is 3.56 sec, Incongruent St.Deviation is 4.8 sec</li>"
   ]
  },
  {
   "cell_type": "markdown",
   "metadata": {},
   "source": [
    "(4) Provide one or two visualizations that show the distribution of the sample data. Write one or two sentences noting what you observe about the plot or plots."
   ]
  },
  {
   "cell_type": "code",
   "execution_count": 2,
   "metadata": {
    "scrolled": true
   },
   "outputs": [
    {
     "data": {
      "image/png": "[encoded data removed]",
      "text/plain": [
       "<matplotlib.figure.Figure at 0x16a44a06fd0>"
      ]
     },
     "metadata": {},
     "output_type": "display_data"
    }
   ],
   "source": [
    "plt.hist(df.Congruent);"
   ]
  },
  {
   "cell_type": "code",
   "execution_count": 3,
   "metadata": {},
   "outputs": [
    {
     "data": {
      "image/png": "[encoded data removed]",
      "text/plain": [
       "<matplotlib.figure.Figure at 0x16a46a82588>"
      ]
     },
     "metadata": {},
     "output_type": "display_data"
    }
   ],
   "source": [
    "plt.hist(df.Incongruent);"
   ]
  },
  {
   "cell_type": "markdown",
   "metadata": {},
   "source": [
    "Answer\n",
    ">Congruent Data in the provided sample shows normal distribution.\n",
    "\n",
    ">Incongruent Data in the provided sample shows right skewed with obvious outliers.\n",
    "\n",
    ">The above plots are for very few sample data so they cannot be used for getting results based on them."
   ]
  },
  {
   "cell_type": "markdown",
   "metadata": {},
   "source": [
    "(5)  Now, perform the statistical test and report your results. What is your confidence level or Type I error associated with your test? What is your conclusion regarding the hypotheses you set up? Did the results match up with your expectations? **Hint:**  Think about what is being measured on each individual, and what statistic best captures how an individual reacts in each environment."
   ]
  },
  {
   "cell_type": "code",
   "execution_count": 2,
   "metadata": {},
   "outputs": [
    {
     "data": {
      "text/plain": [
       "0.0"
      ]
     },
     "execution_count": 2,
     "metadata": {},
     "output_type": "execute_result"
    },
    {
     "data": {
      "image/png": "[encoded data removed]",
      "text/plain": [
       "<matplotlib.figure.Figure at 0x2dfe5804898>"
      ]
     },
     "metadata": {},
     "output_type": "display_data"
    }
   ],
   "source": [
    "# Applying A/B Test\n",
    "\n",
    "means_diff=[]\n",
    "\n",
    "for _ in range(1000):\n",
    "    bootsample=df.sample(150, replace=True)\n",
    "    cong_mean=bootsample.Congruent.mean()\n",
    "    incong_mean=bootsample.Incongruent.mean()\n",
    "    means_diff.append(incong_mean-cong_mean)\n",
    "    \n",
    "# assuming that Congruent and Incongruent are similar, then mean difference will be 0 which is the Null hypothesis:\n",
    "null_vals = np.random.normal(0, np.std(means_diff), 20000)\n",
    "plt.hist(null_vals)\n",
    "    \n",
    "# plot original mean difference\n",
    "obs_mean_diff=df.Incongruent.mean()-df.Congruent.mean()\n",
    "plt.axvline(obs_mean_diff, color='red');\n",
    "\n",
    "# calculating p-value which is the propability of having Alternative value when the null is true,\n",
    "# in this case it is the propability of having means_diff greater than 0\n",
    "p_value = (null_vals > obs_mean_diff).mean()\n",
    "p_value\n",
    "    \n",
    "\n",
    "    "
   ]
  },
  {
   "cell_type": "markdown",
   "metadata": {},
   "source": [
    "Answer:\n",
    "><li>Type I error: calculated value (0) is very small (less than 0.05) which makes it unlikely to accept of the Null hypothesis.</li>\n",
    "><li>Conclusion: Incongruent Mean is likely to be greater than Congruent Mean.</li>\n",
    "><li>Observations prove that reading the color word when its text is written in a different color meaning (Incongruent) takes longer time when the color word is written in the same color meaning (Congruent).</li>"
   ]
  },
  {
   "cell_type": "markdown",
   "metadata": {},
   "source": [
    "(6) Optional: What do you think is responsible for the effects observed? Can you think of an alternative or similar task that would result in a similar effect? Some research about the problem will be helpful for thinking about these two questions!"
   ]
  },
  {
   "cell_type": "markdown",
   "metadata": {},
   "source": [
    "Q1: What causes Stroop effect?\n",
    "\n",
    "Answer: There are several theories used to explain the Stroop effect, some of them are explained simply as:\n",
    "\n",
    "><li>Processing Speed:This theory suggests there is a lag in the brain's ability to recognize the color of the word since the brain reads words faster than it recognizes colors.</li>\n",
    "><li>Selective Attention: The Selective Attention Theory that color recognition as opposed to reading a word, requires more attention, the brain needs to use more attention to recognize a color than to word encoding, so it takes a little longer.</li>\n",
    "><li>Automaticity: This theory is the most common theory of the Stroop effect.It suggests that since recognizing colors is not an \"automatic process\" there is hesitancy to respond; whereas, the brain automatically understands the meaning of words as a result of habitual reading.</li>\n",
    "\n",
    "\n",
    "Q2: Stroop Effect Alternatives\n",
    "\n",
    ">Answer: Stroop Effect has been modified to include other sensory modalities and variables, for example:\n",
    "><li>Warped words:\n",
    "The warped words Stroop effect produces the same findings similar to the original Stroop effect. Much like the Stroop task, the printed word's color is different from the ink color of the word; however, the words are printed in such a way that it is more difficult to read (typically curved-shaped).The idea here is the way the words are printed slows down both the brain's reaction and processing time, making it harder to complete the task.</li>\n",
    "\n",
    "\n",
    "><li>Emotional:\n",
    "The emotional Stroop effect serves as an information processing approach to emotions. In an emotional Stroop task, an individual is given negative emotional words like \"grief,\" \"violence,\" and \"pain\" mixed in with more neutral words like \"clock,\" \"door,\" and \"shoe\". Just like in the original Stroop task, the words are colored and the individual is supposed to name the color. Research has revealed that individuals that are depressed are more likely to say the color of a negative word slower than the color of a neutral word. While both the emotional Stroop and the classic Stroop involve the need to suppress irrelevant or distracting information, there are differences between the two. The emotional Stroop effect emphasizes the conflict between the emotional relevance to the individual and the word; whereas, the classic Stroop effect examines the conflict between the incongruent color and word.</li>\n"
   ]
  },
  {
   "cell_type": "markdown",
   "metadata": {},
   "source": [
    "References:\n",
    "<li>https://www.thoughtco.com/independent-and-dependent-variables-differences-606115</li>\n",
    "<li>https://study.com/academy/lesson/what-is-a-null-hypothesis-definition-examples.html</li>\n",
    "<li>https://en.wikipedia.org/wiki/Stroop_effect</li>"
   ]
  }
 ],
 "metadata": {
  "celltoolbar": "Tags",
  "kernelspec": {
   "display_name": "Python 3",
   "language": "python",
   "name": "python3"
  },
  "language_info": {
   "codemirror_mode": {
    "name": "ipython",
    "version": 3
   },
   "file_extension": ".py",
   "mimetype": "text/x-python",
   "name": "python",
   "nbconvert_exporter": "python",
   "pygments_lexer": "ipython3",
   "version": "3.6.3"
  }
 },
 "nbformat": 4,
 "nbformat_minor": 2
}
